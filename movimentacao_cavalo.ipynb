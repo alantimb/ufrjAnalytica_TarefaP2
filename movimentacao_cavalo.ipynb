{
 "cells": [
  {
   "cell_type": "code",
   "execution_count": 13,
   "metadata": {},
   "outputs": [],
   "source": [
    "import sys"
   ]
  },
  {
   "cell_type": "code",
   "execution_count": 14,
   "metadata": {},
   "outputs": [],
   "source": [
    "# Posições inicial e final do cavalo digitadas pela usuário\n",
    "posicoes_cavalo = input(\"Digite aqui as posições inicial e final de movimentação do cavalo no xadrez: \")\n",
    "\n",
    "eixo_x = ['a', 'b', 'c', 'd', 'e', 'f', 'g', 'h']\n",
    "eixo_y = ['1', '2', '3', '4', '5', '6', '7', '8']"
   ]
  },
  {
   "cell_type": "code",
   "execution_count": 15,
   "metadata": {},
   "outputs": [],
   "source": [
    "# Testa as possibilidades de movimentos\n",
    "def tentativas_movimentacao(x1,y1,x2,y2):\n",
    "    possibilidades = [[1,2], [-1,2], [1,-2], [-1,-2], [2,1], [-2,1], [2,-1], [-2,-1]]\n",
    "    teste = [x2 - x1, y2 - y1]\n",
    "    validade = False\n",
    "\n",
    "    for i in range(len(possibilidades)):\n",
    "        if teste == possibilidades[i]:\n",
    "            validade = True\n",
    "            break\n",
    "    \n",
    "    if validade:\n",
    "         print(\"VÁLIDO\\n\")\n",
    "    else:\n",
    "         print(\"INVÁLIDO\\n\")"
   ]
  },
  {
   "cell_type": "code",
   "execution_count": 16,
   "metadata": {},
   "outputs": [
    {
     "name": "stdout",
     "output_type": "stream",
     "text": [
      "Input inválido.\n",
      "\n",
      "Input inválido.\n",
      "\n",
      "Input inválido.\n",
      "\n",
      "VÁLIDO\n",
      "\n",
      "Input inválido.\n",
      "\n",
      "INVÁLIDO\n",
      "\n",
      "Fim...\n"
     ]
    }
   ],
   "source": [
    "# Verifica se o valor do input é válido\n",
    "while posicoes_cavalo != 'f':\n",
    "    logica_1 = (len(posicoes_cavalo) == 5) and (posicoes_cavalo[2] == \" \")\n",
    "    logica_2 = False\n",
    "    logica_3 = False\n",
    "    \n",
    "    if logica_1:\n",
    "        indices_posicoes = []\n",
    "        for i in range(len(eixo_x)):\n",
    "            for j in range(len(eixo_y)):\n",
    "                if posicoes_cavalo[0] == eixo_x[i] and posicoes_cavalo[1] == eixo_y[j]:\n",
    "                    logica_2 = True\n",
    "                    indices_posicoes.insert(0, i)\n",
    "                    indices_posicoes.insert(1, j)\n",
    "                elif posicoes_cavalo[3] == eixo_x[i] and posicoes_cavalo[4] == eixo_y[j]:\n",
    "                    logica_3 = True\n",
    "                    indices_posicoes.insert(2, i)\n",
    "                    indices_posicoes.insert(3, j)\n",
    "                \n",
    "    if logica_2 and logica_3:\n",
    "        tentativas_movimentacao(indices_posicoes[0], indices_posicoes[1], indices_posicoes[2], indices_posicoes[3])\n",
    "        \n",
    "        posicoes_cavalo = input(\"Digite aqui as posições inicial e final de movimentação do cavalo no xadrez: \")\n",
    "        if posicoes_cavalo == 'f':\n",
    "            break\n",
    "        continue\n",
    "    else:\n",
    "        print('Input inválido.\\n')\n",
    "        posicoes_cavalo = input(\"Digite aqui as posições inicial e final de movimentação do cavalo no xadrez: \")\n",
    "        continue\n",
    "    \n",
    "        \n",
    "if posicoes_cavalo == 'f':\n",
    "    print(\"Fim...\")\n",
    "    "
   ]
  }
 ],
 "metadata": {
  "kernelspec": {
   "display_name": "Python 3",
   "language": "python",
   "name": "python3"
  },
  "language_info": {
   "codemirror_mode": {
    "name": "ipython",
    "version": 3
   },
   "file_extension": ".py",
   "mimetype": "text/x-python",
   "name": "python",
   "nbconvert_exporter": "python",
   "pygments_lexer": "ipython3",
   "version": "3.10.6"
  },
  "orig_nbformat": 4
 },
 "nbformat": 4,
 "nbformat_minor": 2
}
