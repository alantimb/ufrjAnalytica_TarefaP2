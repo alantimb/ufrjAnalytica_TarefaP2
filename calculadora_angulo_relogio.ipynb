{
 "cells": [
  {
   "cell_type": "code",
   "execution_count": 13,
   "metadata": {},
   "outputs": [],
   "source": [
    " import sys"
   ]
  },
  {
   "cell_type": "code",
   "execution_count": 14,
   "metadata": {},
   "outputs": [],
   "source": [
    "# Horário digitado pelo usuário\n",
    "horario = input(\"Digite aqui um horário no formato 24h e no padrão 'hh:mm': \")\n",
    "\n",
    "horario_input = horario\n",
    "mensagem = \"\"\"\n",
    "Obs.: Esse programa considera que o ponteiro das horas rotaciona \n",
    "conforme o dos minutos também o faz, e não somente de hora em hora.\n",
    "\"\"\""
   ]
  },
  {
   "cell_type": "code",
   "execution_count": 15,
   "metadata": {},
   "outputs": [],
   "source": [
    "# Calcula o menor ângulo \n",
    "def menor_angulo(h, m):\n",
    "    angulo = abs(60*horario[0] - 11*horario[1])/2\n",
    "\n",
    "    if angulo <= 180:\n",
    "        print(f\"O menor ângulo é de {int(angulo)}º\\n\")\n",
    "    elif 180 < angulo <= 360:\n",
    "        angulo = 360 - angulo\n",
    "        print(f\"O menor ângulo é de {int(angulo)}º\\n\")\n",
    "    else:\n",
    "        resto = angulo % 360\n",
    "        if resto <= 180:\n",
    "            angulo = resto\n",
    "            print(f\"O menor ângulo é de {int(angulo)}º\\n\")\n",
    "        else:\n",
    "            angulo = 360 - resto\n",
    "            print(f\"O menor ângulo é de {int(angulo)}º\\n\")"
   ]
  },
  {
   "cell_type": "code",
   "execution_count": 16,
   "metadata": {},
   "outputs": [
    {
     "name": "stdout",
     "output_type": "stream",
     "text": [
      "\n",
      "Obs.: Esse programa considera que o ponteiro das horas rotaciona \n",
      "conforme o dos minutos também o faz, e não somente de hora em hora\n",
      "\n",
      "O menor ângulo é de 105º\n",
      "\n",
      "Input inválido\n",
      "\n",
      "Input inválido\n",
      "\n",
      "O menor ângulo é de 0º\n",
      "\n",
      "O menor ângulo é de 72º\n",
      "\n",
      "O menor ângulo é de 103º\n",
      "\n",
      "O menor ângulo é de 27º\n",
      "\n",
      "Fim...\n"
     ]
    }
   ],
   "source": [
    "\n",
    "# Verifica se o valor do input é válido\n",
    "print(mensagem, sep=\"\\n\\n\")\n",
    "\n",
    "while horario != 'f':\n",
    "    if (len(horario) == 5) and (horario[2] == \":\") and (0 <= int(horario[:2]) < 24) and (0 <= int(horario[3:]) < 60) and (type(int(horario[:2])) == int) and (type(int(horario[3:])) == int):\n",
    "        horario = horario.split(':')\n",
    "        horario[0] = int(horario[0]) # horas\n",
    "        horario[1] = int(horario[1]) # minutos\n",
    "        menor_angulo(horario[0], horario[1])\n",
    "        horario = input(\"Digite aqui um horário no formato 24h e no padrão 'hh:mm': \")\n",
    "        continue\n",
    "    else:\n",
    "        print('Input inválido\\n')\n",
    "        horario = input(\"Digite aqui um horário no formato 24h e no padrão 'hh:mm': \")\n",
    "        continue\n",
    "\n",
    "if horario == 'f':\n",
    "    print(\"Fim...\")\n",
    "        "
   ]
  }
 ],
 "metadata": {
  "kernelspec": {
   "display_name": "Python 3",
   "language": "python",
   "name": "python3"
  },
  "language_info": {
   "codemirror_mode": {
    "name": "ipython",
    "version": 3
   },
   "file_extension": ".py",
   "mimetype": "text/x-python",
   "name": "python",
   "nbconvert_exporter": "python",
   "pygments_lexer": "ipython3",
   "version": "3.10.6"
  },
  "orig_nbformat": 4
 },
 "nbformat": 4,
 "nbformat_minor": 2
}
