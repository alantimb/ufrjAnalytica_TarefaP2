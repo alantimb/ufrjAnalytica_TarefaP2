{
 "cells": [
  {
   "cell_type": "code",
   "execution_count": 203,
   "metadata": {},
   "outputs": [],
   "source": [
    " import sys"
   ]
  },
  {
   "cell_type": "code",
   "execution_count": 204,
   "metadata": {},
   "outputs": [],
   "source": [
    "# Horário digitado pelo usuário\n",
    "horario = input(\"Digite aqui um horário no formato 24h e no padrão 'hh:mm': \")\n",
    "\n",
    "horario_input = horario\n",
    "mensagem = \"\"\"\n",
    "Obs.: Esse programa considera que o ponteiro das horas rotaciona \n",
    "conforme o dos minutos também o faz, e não somente de hora em hora\n",
    "\"\"\""
   ]
  },
  {
   "cell_type": "code",
   "execution_count": 205,
   "metadata": {},
   "outputs": [],
   "source": [
    "# Verifica se o valor do input é válido\n",
    "if horario == 'f':\n",
    "    print(\"Fim...\")\n",
    "    sys.exit(0)\n",
    "elif (len(horario) == 5) and (horario[2] == \":\") and (0 <= int(horario[:2]) < 24) and (0 <= int(horario[3:]) < 60) and (type(int(horario[:2])) == int) and (type(int(horario[3:])) == int):\n",
    "    horario = horario.split(':')\n",
    "    horario[0] = int(horario[0]) # horas\n",
    "    horario[1] = int(horario[1]) # minutos\n",
    "else:\n",
    "    print('Input inválido')\n",
    "    sys.exit(1)"
   ]
  },
  {
   "cell_type": "code",
   "execution_count": 206,
   "metadata": {},
   "outputs": [
    {
     "name": "stdout",
     "output_type": "stream",
     "text": [
      "\n",
      "Obs.: Esse programa considera que o ponteiro das horas rotaciona \n",
      "conforme o dos minutos também o faz, e não somente de hora em hora\n",
      "\n",
      "21:30\n",
      "O menor ângulo é de 105º\n"
     ]
    }
   ],
   "source": [
    "# Calcula o menor ângulo \n",
    "print(mensagem, sep=\"\\n\\n\")\n",
    "\n",
    "menor_angulo = abs(60*horario[0] - 11*horario[1])/2\n",
    "\n",
    "if menor_angulo <= 180:\n",
    "    print(horario_input, f\"O menor ângulo é de {int(menor_angulo)}º\", sep=\"\\n\")\n",
    "elif 180 < menor_angulo <= 360:\n",
    "    menor_angulo = 360 - menor_angulo\n",
    "    print(horario_input, f\"O menor ângulo é de {int(menor_angulo)}º\", sep=\"\\n\")\n",
    "else:\n",
    "    resto = menor_angulo % 360\n",
    "    if resto <= 180:\n",
    "        menor_angulo = resto\n",
    "        print(horario_input, f\"O menor ângulo é de {int(menor_angulo)}º\", sep=\"\\n\")\n",
    "    else:\n",
    "        menor_angulo = 360 - resto\n",
    "        print(horario_input, f\"O menor ângulo é de {int(menor_angulo)}º\", sep=\"\\n\")"
   ]
  }
 ],
 "metadata": {
  "kernelspec": {
   "display_name": "Python 3",
   "language": "python",
   "name": "python3"
  },
  "language_info": {
   "codemirror_mode": {
    "name": "ipython",
    "version": 3
   },
   "file_extension": ".py",
   "mimetype": "text/x-python",
   "name": "python",
   "nbconvert_exporter": "python",
   "pygments_lexer": "ipython3",
   "version": "3.10.6"
  },
  "orig_nbformat": 4
 },
 "nbformat": 4,
 "nbformat_minor": 2
}
