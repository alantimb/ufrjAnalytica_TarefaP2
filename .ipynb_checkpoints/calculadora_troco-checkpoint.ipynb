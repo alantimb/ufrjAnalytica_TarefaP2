{
 "cells": [
  {
   "cell_type": "code",
   "execution_count": null,
   "metadata": {},
   "outputs": [],
   "source": [
    "import sys"
   ]
  },
  {
   "cell_type": "code",
   "execution_count": null,
   "metadata": {},
   "outputs": [],
   "source": [
    "# Valor monetário digitado pelo usuário\n",
    "valor_monetario = input(\"Digite aqui um valor monetário de duas casas decimais: \")\n",
    "\n",
    "valor_input = valor_monetario"
   ]
  },
  {
   "cell_type": "code",
   "execution_count": null,
   "metadata": {},
   "outputs": [],
   "source": [
    "# Verifica se o valor do input é válido\n",
    "if (len(valor_monetario) > 3) and (valor_monetario[-3] == \".\") and (type(float(valor_monetario)) == float):\n",
    "    valor_monetario = valor_monetario.split('.')\n",
    "    valor_monetario[0] = float(valor_monetario[0]) # valor em reais\n",
    "    valor_monetario[1] = float('0.' + valor_monetario[1]) # valor em centavos\n",
    "else:\n",
    "    print(' → O valor não atendeu às especificações.')\n",
    "    sys.exit(1)"
   ]
  },
  {
   "cell_type": "code",
   "execution_count": null,
   "metadata": {},
   "outputs": [],
   "source": [
    "# Calcula a quantidade de notas\n",
    "notas = [100, 50, 20, 10, 5, 2]\n",
    "valores_reais = {}\n",
    "quantidade_notas = 0\n",
    "\n",
    "for i in range(len(notas)):\n",
    "    if valor_monetario[0] == 1:\n",
    "        valor_monetario[0] -= 1\n",
    "        valor_monetario[1] += 1\n",
    "        valores_reais[notas[i]] = 0\n",
    "        continue\n",
    "    elif  valor_monetario[0] // notas[i] == 0:\n",
    "        valores_reais[notas[i]] = 0\n",
    "        continue\n",
    "    else:\n",
    "        quantidade_notas = valor_monetario[0] // notas[i]\n",
    "        valor_monetario[0] = valor_monetario[0] % notas[i]\n",
    "        valores_reais[notas[i]] = int(quantidade_notas)\n",
    "        if valor_monetario[0] == 1:\n",
    "            valor_monetario[0] -= 1\n",
    "            valor_monetario[1] += 1\n",
    "            \n",
    "valor_notas = f\"\"\"\n",
    "NOTAS:\n",
    "{valores_reais[100]} nota(s) de R$ 100.00\n",
    "{valores_reais[50]} nota(s) de R$ 50.00\n",
    "{valores_reais[20]} nota(s) de R$ 20.00\n",
    "{valores_reais[10]} nota(s) de R$ 10.00\n",
    "{valores_reais[5]} nota(s) de R$ 5.00\n",
    "{valores_reais[2]} nota(s) de R$ 2.00\n",
    "\"\"\" "
   ]
  },
  {
   "cell_type": "code",
   "execution_count": null,
   "metadata": {},
   "outputs": [],
   "source": [
    "# Calcula a quantidade de moedas\n",
    "moedas = [1, 0.50, 0.25, 0.10, 0.05, 0.01]\n",
    "valores_centavos = {}\n",
    "quantidade_moedas = 0\n",
    "\n",
    "for i in range(len(moedas)):\n",
    "    if  valor_monetario[1] // moedas[i] == 0:\n",
    "        valores_centavos[moedas[i]] = 0\n",
    "        continue\n",
    "    else:\n",
    "        quantidade_moedas = valor_monetario[1] // moedas[i]\n",
    "        valor_monetario[1] = valor_monetario[1] % moedas[i]\n",
    "        valores_centavos[moedas[i]] = int(quantidade_moedas)\n",
    "        \n",
    "        if valor_monetario[1] // 0.01 == 0:\n",
    "            valor_monetario[1]\n",
    "\n",
    "valor_moedas = f\"\"\"\n",
    "MOEDAS:\n",
    "{valores_centavos[1]} moeda(s) de R$ 1.00\n",
    "{valores_centavos[0.5]} moeda(s) de R$ 0.50\n",
    "{valores_centavos[0.25]} moeda(s) de R$ 0.25\n",
    "{valores_centavos[0.1]} moeda(s) de R$ 0.10\n",
    "{valores_centavos[0.05]} moeda(s) de R$ 0.05\n",
    "{valores_centavos[0.01]} moeda(s) de R$ 0.01\n",
    "\"\"\""
   ]
  },
  {
   "cell_type": "code",
   "execution_count": null,
   "metadata": {},
   "outputs": [],
   "source": [
    "# Output\n",
    "print(valor_input, valor_notas, valor_moedas)"
   ]
  }
 ],
 "metadata": {
  "kernelspec": {
   "display_name": "Python 3 (ipykernel)",
   "language": "python",
   "name": "python3"
  },
  "language_info": {
   "codemirror_mode": {
    "name": "ipython",
    "version": 3
   },
   "file_extension": ".py",
   "mimetype": "text/x-python",
   "name": "python",
   "nbconvert_exporter": "python",
   "pygments_lexer": "ipython3",
   "version": "3.10.6"
  }
 },
 "nbformat": 4,
 "nbformat_minor": 2
}
