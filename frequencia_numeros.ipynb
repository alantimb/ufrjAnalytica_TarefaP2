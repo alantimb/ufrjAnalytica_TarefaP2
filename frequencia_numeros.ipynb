{
 "cells": [
  {
   "cell_type": "code",
   "execution_count": 93,
   "metadata": {},
   "outputs": [],
   "source": [
    "input_numero = input(\"Digite aqui um número inteiro: \")"
   ]
  },
  {
   "cell_type": "code",
   "execution_count": 94,
   "metadata": {},
   "outputs": [],
   "source": [
    "# Verifica o valor do input\n",
    "numeros_inteiros = []\n",
    "\n",
    "while input_numero != \"f\":\n",
    "    \n",
    "    try:\n",
    "        int(input_numero)\n",
    "        numeros_inteiros.append(input_numero)\n",
    "        input_numero = input(\"Digite aqui um número inteiro: \")\n",
    "        continue\n",
    "    except:\n",
    "        input_numero = input(\"Digite aqui um número inteiro: \")\n",
    "        continue\n",
    "    \n",
    "if input_numero == \"f\":\n",
    "    numeros_inteiros.append(\"f\")\n",
    "    \n",
    "numeros_inteiros.sort()"
   ]
  },
  {
   "cell_type": "code",
   "execution_count": 95,
   "metadata": {},
   "outputs": [
    {
     "name": "stdout",
     "output_type": "stream",
     "text": [
      "O número 1 apareceu 2 vezes\n",
      "O número 6 apareceu 1 vez\n",
      "Fim...\n"
     ]
    }
   ],
   "source": [
    "# Conta quantas vezes cada número inteiro apareceu\n",
    "quantidades = {}\n",
    "\n",
    "for i in range(len(numeros_inteiros)):\n",
    "    repeticoes = 0\n",
    "    for j in range(len(numeros_inteiros)):\n",
    "        if numeros_inteiros[i] == numeros_inteiros[j]:\n",
    "            repeticoes += 1\n",
    "            quantidades[numeros_inteiros[i]] = repeticoes\n",
    "            continue\n",
    "\n",
    "mensagem = \"\"\n",
    "\n",
    "for i in quantidades.keys():\n",
    "    if i != \"f\":\n",
    "        if quantidades[i] > 1: \n",
    "            mensagem += f\"O número {i} apareceu {quantidades[i]} vezes\\n\"\n",
    "        else:\n",
    "            mensagem += f\"O número {i} apareceu {quantidades[i]} vez\\n\"\n",
    "        continue\n",
    "    if i == \"f\": \n",
    "        mensagem += \"Fim...\"\n",
    "\n",
    "print(mensagem)"
   ]
  }
 ],
 "metadata": {
  "kernelspec": {
   "display_name": "Python 3",
   "language": "python",
   "name": "python3"
  },
  "language_info": {
   "codemirror_mode": {
    "name": "ipython",
    "version": 3
   },
   "file_extension": ".py",
   "mimetype": "text/x-python",
   "name": "python",
   "nbconvert_exporter": "python",
   "pygments_lexer": "ipython3",
   "version": "3.10.6"
  },
  "orig_nbformat": 4
 },
 "nbformat": 4,
 "nbformat_minor": 2
}
